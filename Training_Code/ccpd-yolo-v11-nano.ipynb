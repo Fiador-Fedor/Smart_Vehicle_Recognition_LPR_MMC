{
 "cells": [
  {
   "cell_type": "code",
   "execution_count": null,
   "metadata": {
    "_cell_guid": "b1076dfc-b9ad-4769-8c92-a6c4dae69d19",
    "_uuid": "8f2839f25d086af736a60e9eeb907d3b93b6e0e5",
    "execution": {
     "iopub.execute_input": "2025-04-09T17:06:46.700453Z",
     "iopub.status.busy": "2025-04-09T17:06:46.700169Z",
     "iopub.status.idle": "2025-04-09T17:06:54.446034Z",
     "shell.execute_reply": "2025-04-09T17:06:54.444916Z",
     "shell.execute_reply.started": "2025-04-09T17:06:46.700431Z"
    },
    "trusted": true
   },
   "outputs": [],
   "source": [
    "!pip install ultralytics pytesseract opencv-python-headless matplotlib"
   ]
  },
  {
   "cell_type": "code",
   "execution_count": null,
   "metadata": {
    "execution": {
     "iopub.execute_input": "2025-04-09T17:06:54.447198Z",
     "iopub.status.busy": "2025-04-09T17:06:54.446978Z",
     "iopub.status.idle": "2025-04-09T17:07:02.592452Z",
     "shell.execute_reply": "2025-04-09T17:07:02.591821Z",
     "shell.execute_reply.started": "2025-04-09T17:06:54.447179Z"
    },
    "trusted": true
   },
   "outputs": [],
   "source": [
    "import os\n",
    "import cv2\n",
    "import numpy as np\n",
    "import pytesseract\n",
    "from PIL import Image\n",
    "import shutil\n",
    "from ultralytics import YOLO"
   ]
  },
  {
   "cell_type": "code",
   "execution_count": null,
   "metadata": {
    "execution": {
     "iopub.execute_input": "2025-04-09T17:07:02.593753Z",
     "iopub.status.busy": "2025-04-09T17:07:02.593224Z",
     "iopub.status.idle": "2025-04-09T17:07:02.599428Z",
     "shell.execute_reply": "2025-04-09T17:07:02.598588Z",
     "shell.execute_reply.started": "2025-04-09T17:07:02.593722Z"
    },
    "trusted": true
   },
   "outputs": [],
   "source": [
    "yolo_config = '''\n",
    "train: /kaggle/input/augmented-lpr-gh-chi-dataset-yolo-v8-format/Augmented_LPR_GH_CHI_Dataset/train/images\n",
    "val: /kaggle/input/augmented-lpr-gh-chi-dataset-yolo-v8-format/Augmented_LPR_GH_CHI_Dataset/val/images\n",
    "test: /kaggle/input/augmented-lpr-gh-chi-dataset-yolo-v8-format/Augmented_LPR_GH_CHI_Dataset/test/images\n",
    "\n",
    "nc: 1\n",
    "names: ['license_plate']\n",
    "'''\n",
    "\n",
    "# Write the YAML file in the designated writeable folder\n",
    "config_path = '/kaggle/working/data.yaml'\n",
    "with open(config_path, 'w') as f:\n",
    "    f.write(yolo_config.strip())\n",
    "\n",
    "print(f\"YAML config written to: {config_path}\")"
   ]
  },
  {
   "cell_type": "code",
   "execution_count": null,
   "metadata": {
    "execution": {
     "iopub.execute_input": "2025-04-09T17:17:49.462546Z",
     "iopub.status.busy": "2025-04-09T17:17:49.462162Z",
     "iopub.status.idle": "2025-04-09T17:17:50.130949Z",
     "shell.execute_reply": "2025-04-09T17:17:50.129873Z",
     "shell.execute_reply.started": "2025-04-09T17:17:49.462509Z"
    },
    "trusted": true
   },
   "outputs": [],
   "source": [
    "!mkdir -p /kaggle/working/model\n",
    "!wget -O /kaggle/working/model/yolo11n.pt https://github.com/ultralytics/assets/releases/download/v8.3.0/yolo11n.pt"
   ]
  },
  {
   "cell_type": "code",
   "execution_count": null,
   "metadata": {
    "execution": {
     "iopub.execute_input": "2025-04-09T17:18:40.332690Z",
     "iopub.status.busy": "2025-04-09T17:18:40.332343Z",
     "iopub.status.idle": "2025-04-09T17:18:41.427616Z",
     "shell.execute_reply": "2025-04-09T17:18:41.426936Z",
     "shell.execute_reply.started": "2025-04-09T17:18:40.332663Z"
    },
    "trusted": true
   },
   "outputs": [],
   "source": [
    "model = YOLO(\"/kaggle/working/model/yolo11n.pt\")\n",
    "model.info()"
   ]
  },
  {
   "cell_type": "code",
   "execution_count": null,
   "metadata": {
    "execution": {
     "iopub.execute_input": "2025-04-09T17:21:17.887833Z",
     "iopub.status.busy": "2025-04-09T17:21:17.887398Z",
     "iopub.status.idle": "2025-04-09T17:33:38.751552Z",
     "shell.execute_reply": "2025-04-09T17:33:38.750347Z",
     "shell.execute_reply.started": "2025-04-09T17:21:17.887808Z"
    },
    "trusted": true
   },
   "outputs": [],
   "source": [
    "\n",
    "results = model.train(data=config_path, epochs=10, imgsz=640)"
   ]
  },
  {
   "cell_type": "code",
   "execution_count": null,
   "metadata": {
    "execution": {
     "iopub.execute_input": "2025-04-09T17:39:59.518121Z",
     "iopub.status.busy": "2025-04-09T17:39:59.517789Z",
     "iopub.status.idle": "2025-04-09T17:40:00.335614Z",
     "shell.execute_reply": "2025-04-09T17:40:00.334856Z",
     "shell.execute_reply.started": "2025-04-09T17:39:59.518098Z"
    },
    "trusted": true
   },
   "outputs": [],
   "source": [
    "\n",
    "shutil.make_archive('/kaggle/working/runs/detect', 'zip', '/kaggle/working/runs/detect/train')\n"
   ]
  }
 ],
 "metadata": {
  "kaggle": {
   "accelerator": "nvidiaTeslaT4",
   "dataSources": [
    {
     "datasetId": 7093799,
     "sourceId": 11339192,
     "sourceType": "datasetVersion"
    }
   ],
   "dockerImageVersionId": 30918,
   "isGpuEnabled": true,
   "isInternetEnabled": true,
   "language": "python",
   "sourceType": "notebook"
  },
  "kernelspec": {
   "display_name": "Python 3",
   "language": "python",
   "name": "python3"
  },
  "language_info": {
   "codemirror_mode": {
    "name": "ipython",
    "version": 3
   },
   "file_extension": ".py",
   "mimetype": "text/x-python",
   "name": "python",
   "nbconvert_exporter": "python",
   "pygments_lexer": "ipython3",
   "version": "3.10.12"
  }
 },
 "nbformat": 4,
 "nbformat_minor": 4
}
